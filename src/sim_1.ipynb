{
 "cells": [
  {
   "cell_type": "code",
   "execution_count": null,
   "id": "75bf3559",
   "metadata": {},
   "outputs": [],
   "source": [
    "import bpy\n",
    "bpy.ops.wm.obj_import(filepath=\"C:\\Datas\\\\trailer_mirror\\mirror_sim\\models\\\\vehicles\\GLS580\\GLS580.obj\")"
   ]
  },
  {
   "cell_type": "code",
   "execution_count": null,
   "id": "327fa835-7bea-497a-a286-2f689d793340",
   "metadata": {},
   "outputs": [],
   "source": []
  }
 ],
 "metadata": {
  "kernelspec": {
   "display_name": "blender",
   "language": "python",
   "name": "blender"
  },
  "language_info": {
   "codemirror_mode": {
    "name": "ipython",
    "version": 3
   },
   "file_extension": ".py",
   "mimetype": "text/x-python",
   "name": "python",
   "nbconvert_exporter": "python",
   "pygments_lexer": "ipython3",
   "version": "3.11.13"
  }
 },
 "nbformat": 4,
 "nbformat_minor": 5
}
